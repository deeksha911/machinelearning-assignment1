{
  "nbformat": 4,
  "nbformat_minor": 0,
  "metadata": {
    "colab": {
      "name": "knn.ipynb",
      "provenance": [],
      "authorship_tag": "ABX9TyPMIHyzIswtvLXlT4BXzxf1",
      "include_colab_link": true
    },
    "kernelspec": {
      "name": "python3",
      "display_name": "Python 3"
    },
    "language_info": {
      "name": "python"
    }
  },
  "cells": [
    {
      "cell_type": "markdown",
      "metadata": {
        "id": "view-in-github",
        "colab_type": "text"
      },
      "source": [
        "<a href=\"https://colab.research.google.com/github/deeksha911/machinelearning-assignment1/blob/main/knn.ipynb\" target=\"_parent\"><img src=\"https://colab.research.google.com/assets/colab-badge.svg\" alt=\"Open In Colab\"/></a>"
      ]
    },
    {
      "cell_type": "code",
      "metadata": {
        "id": "i3EJXXyrtiKB",
        "outputId": "7063bfef-2dd1-4b56-a073-21ccc19e82b5",
        "colab": {
          "base_uri": "https://localhost:8080/"
        }
      },
      "source": [
        "import numpy as np\n",
        "import matplotlib.pyplot as plt\n",
        "import pandas as pd\n",
        "from sklearn.tree import DecisionTreeClassifier\n",
        "X = [[30],[40],[50],[60],[20],[10],[70]]\n",
        "y = [0,1,1,1,0,0,1]\n",
        "from sklearn.neighbors import KNeighborsClassifier  \n",
        "classifier= KNeighborsClassifier(n_neighbors=5, metric='minkowski', p=2 )  \n",
        "classifier.fit(X,y) \n",
        "X_marks=[[50]]\n",
        "print(classifier.predict(X_marks))"
      ],
      "execution_count": 1,
      "outputs": [
        {
          "output_type": "stream",
          "text": [
            "[1]\n"
          ],
          "name": "stdout"
        }
      ]
    }
  ]
}